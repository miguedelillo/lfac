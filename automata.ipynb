{
 "cells": [
  {
   "cell_type": "code",
   "execution_count": 1,
   "metadata": {},
   "outputs": [],
   "source": [
    "from afd import *"
   ]
  },
  {
   "cell_type": "code",
   "execution_count": 2,
   "metadata": {},
   "outputs": [
    {
     "data": {
      "text/plain": [
       "True"
      ]
     },
     "execution_count": 2,
     "metadata": {},
     "output_type": "execute_result"
    }
   ],
   "source": [
    "def automata_cant_par_a():\n",
    "    par = t_estado('par')\n",
    "    impar = t_estado('impar')\n",
    "\n",
    "    estados = set([par, impar])\n",
    "\n",
    "    alfabeto = set('a')\n",
    "\n",
    "    funcion_transicion = t_transicion({\n",
    "        (par,'a') : impar,\n",
    "        (impar,'a') : par\n",
    "        })\n",
    "\n",
    "    return t_automata(\n",
    "        estados=estados,\n",
    "        alfabeto=alfabeto,\n",
    "        transicion=funcion_transicion,\n",
    "        estado_inicial=par,\n",
    "        estados_finales=set([par])\n",
    "    )\n",
    "automata = automata_cant_par_a()\n",
    "automata.leer_cadena('a' * 1002)"
   ]
  },
  {
   "cell_type": "code",
   "execution_count": 3,
   "metadata": {},
   "outputs": [],
   "source": [
    "def automata_reconoce_L():\n",
    "    # Sea L = (a|b)bb(a)*b\n",
    "    q0 = t_estado('q0')\n",
    "    q1 = t_estado('q1')\n",
    "    q2 = t_estado('q2')\n",
    "    q3 = t_estado('q3')\n",
    "    qf = t_estado('qf')\n",
    "\n",
    "    estados = set([q0, q1, q2, q3, qf])\n",
    "\n",
    "    alfabeto = set('ab')\n",
    "\n",
    "    funcion_transicion = t_transicion({\n",
    "        (q0, 'a') : q1,\n",
    "        (q0 ,'b') : q1,\n",
    "        (q1 ,'b') : q2,\n",
    "        (q2 ,'b') : q3,\n",
    "        (q3 ,'b') : qf,\n",
    "        (q3, 'a') : q3 \n",
    "    })\n",
    "\n",
    "    return t_automata(\n",
    "        estados,\n",
    "        alfabeto,\n",
    "        funcion_transicion,\n",
    "        estado_inicial= q0,\n",
    "        estados_finales=set([qf])\n",
    "    )\n",
    "automata = automata_reconoce_L()\n"
   ]
  },
  {
   "cell_type": "code",
   "execution_count": 4,
   "metadata": {},
   "outputs": [
    {
     "name": "stdout",
     "output_type": "stream",
     "text": [
      "Estado inicial: q0. Cadena: abbaaaaaabaab\n",
      "Paso 0. (q0,abbaaaaaabaab) ⊢ (q1,bbaaaaaabaab).\n",
      "Paso 1. (q1,bbaaaaaabaab) ⊢ (q2,baaaaaabaab).\n",
      "Paso 2. (q2,baaaaaabaab) ⊢ (q3,aaaaaabaab).\n",
      "Paso 3. (q3,aaaaaabaab) ⊢ (q3,aaaaabaab).\n",
      "Paso 4. (q3,aaaaabaab) ⊢ (q3,aaaabaab).\n",
      "Paso 5. (q3,aaaabaab) ⊢ (q3,aaabaab).\n",
      "Paso 6. (q3,aaabaab) ⊢ (q3,aabaab).\n",
      "Paso 7. (q3,aabaab) ⊢ (q3,abaab).\n",
      "Paso 8. (q3,abaab) ⊢ (q3,baab).\n",
      "Paso 9. (q3,baab) ⊢ (qf,aab).\n",
      "No existe la transición (qf, a).\n"
     ]
    },
    {
     "data": {
      "text/plain": [
       "False"
      ]
     },
     "execution_count": 4,
     "metadata": {},
     "output_type": "execute_result"
    }
   ],
   "source": [
    "automata.leer_cadena('abbaaaaaabaab', print_log=True)"
   ]
  },
  {
   "cell_type": "code",
   "execution_count": 5,
   "metadata": {},
   "outputs": [
    {
     "data": {
      "text/plain": [
       "'a'"
      ]
     },
     "execution_count": 5,
     "metadata": {},
     "output_type": "execute_result"
    }
   ],
   "source": [
    "'hola'[-1:]"
   ]
  },
  {
   "cell_type": "code",
   "execution_count": null,
   "metadata": {},
   "outputs": [],
   "source": []
  }
 ],
 "metadata": {
  "kernelspec": {
   "display_name": "lfac",
   "language": "python",
   "name": "python3"
  },
  "language_info": {
   "codemirror_mode": {
    "name": "ipython",
    "version": 3
   },
   "file_extension": ".py",
   "mimetype": "text/x-python",
   "name": "python",
   "nbconvert_exporter": "python",
   "pygments_lexer": "ipython3",
   "version": "3.12.3"
  }
 },
 "nbformat": 4,
 "nbformat_minor": 2
}
